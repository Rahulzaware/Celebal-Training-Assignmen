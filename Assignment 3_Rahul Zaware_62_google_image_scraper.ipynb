{
 "cells": [
  {
   "cell_type": "code",
   "execution_count": 1,
   "id": "0dae3bbe",
   "metadata": {},
   "outputs": [
    {
     "name": "stdout",
     "output_type": "stream",
     "text": [
      "Requirement already satisfied: simple-image-download==0.4 in d:\\anaconda\\lib\\site-packages (0.4)\n",
      "Requirement already satisfied: python-magic-bin==0.4.14 in d:\\anaconda\\lib\\site-packages (from simple-image-download==0.4) (0.4.14)\n",
      "Requirement already satisfied: requests in d:\\anaconda\\lib\\site-packages (from simple-image-download==0.4) (2.25.1)\n",
      "Requirement already satisfied: progressbar in d:\\anaconda\\lib\\site-packages (from simple-image-download==0.4) (2.5)\n",
      "Requirement already satisfied: urllib3<1.27,>=1.21.1 in d:\\anaconda\\lib\\site-packages (from requests->simple-image-download==0.4) (1.26.4)\n",
      "Requirement already satisfied: certifi>=2017.4.17 in d:\\anaconda\\lib\\site-packages (from requests->simple-image-download==0.4) (2020.12.5)\n",
      "Requirement already satisfied: chardet<5,>=3.0.2 in d:\\anaconda\\lib\\site-packages (from requests->simple-image-download==0.4) (4.0.0)\n",
      "Requirement already satisfied: idna<3,>=2.5 in d:\\anaconda\\lib\\site-packages (from requests->simple-image-download==0.4) (2.10)\n"
     ]
    }
   ],
   "source": [
    "!pip install simple-image-download==0.4"
   ]
  },
  {
   "cell_type": "code",
   "execution_count": 2,
   "id": "64a47a33",
   "metadata": {},
   "outputs": [],
   "source": [
    "from simple_image_download import simple_image_download as simp"
   ]
  },
  {
   "cell_type": "code",
   "execution_count": 3,
   "id": "da99d0bb",
   "metadata": {},
   "outputs": [],
   "source": [
    "search_queries = [\"lotus images\",'lotus images in water','two lotus flowers images','images of lotus flower india','blooming lotus flower','lotus flower plant']"
   ]
  },
  {
   "cell_type": "code",
   "execution_count": 4,
   "id": "4fe12f4f",
   "metadata": {},
   "outputs": [
    {
     "name": "stderr",
     "output_type": "stream",
     "text": [
      "[                                                                        ]   0%\r"
     ]
    },
    {
     "name": "stdout",
     "output_type": "stream",
     "text": [
      "lotus images\n"
     ]
    },
    {
     "name": "stderr",
     "output_type": "stream",
     "text": [
      "[========================================================================] 100%\n",
      "[                                                                        ]   0%\r"
     ]
    },
    {
     "name": "stdout",
     "output_type": "stream",
     "text": [
      "lotus images in water\n"
     ]
    },
    {
     "name": "stderr",
     "output_type": "stream",
     "text": [
      "[========================================================================] 100%\n",
      "[                                                                        ]   0%\r"
     ]
    },
    {
     "name": "stdout",
     "output_type": "stream",
     "text": [
      "two lotus flowers images\n"
     ]
    },
    {
     "name": "stderr",
     "output_type": "stream",
     "text": [
      "[========================================================================] 100%\n",
      "[                                                                        ]   0%\r"
     ]
    },
    {
     "name": "stdout",
     "output_type": "stream",
     "text": [
      "images of lotus flower india\n"
     ]
    },
    {
     "name": "stderr",
     "output_type": "stream",
     "text": [
      "[========================================================================] 100%\n",
      "[                                                                        ]   0%\r"
     ]
    },
    {
     "name": "stdout",
     "output_type": "stream",
     "text": [
      "blooming lotus flower\n"
     ]
    },
    {
     "name": "stderr",
     "output_type": "stream",
     "text": [
      "[========================================================================] 100%\n",
      "[                                                                        ]   0%\r"
     ]
    },
    {
     "name": "stdout",
     "output_type": "stream",
     "text": [
      "lotus flower plant\n"
     ]
    },
    {
     "name": "stderr",
     "output_type": "stream",
     "text": [
      "[========================================================================] 100%\n"
     ]
    }
   ],
   "source": [
    "for query in search_queries:\n",
    "    print(query)\n",
    "    response= simp.simple_image_download\n",
    "    response().download(query, 50)"
   ]
  },
  {
   "cell_type": "code",
   "execution_count": null,
   "id": "3f9a2dfd",
   "metadata": {},
   "outputs": [],
   "source": []
  }
 ],
 "metadata": {
  "kernelspec": {
   "display_name": "Python 3",
   "language": "python",
   "name": "python3"
  },
  "language_info": {
   "codemirror_mode": {
    "name": "ipython",
    "version": 3
   },
   "file_extension": ".py",
   "mimetype": "text/x-python",
   "name": "python",
   "nbconvert_exporter": "python",
   "pygments_lexer": "ipython3",
   "version": "3.8.8"
  }
 },
 "nbformat": 4,
 "nbformat_minor": 5
}
